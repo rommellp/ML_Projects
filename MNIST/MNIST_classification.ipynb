{
  "nbformat": 4,
  "nbformat_minor": 0,
  "metadata": {
    "colab": {
      "provenance": []
    },
    "kernelspec": {
      "name": "python3",
      "display_name": "Python 3"
    },
    "language_info": {
      "name": "python"
    }
  },
  "cells": [
    {
      "cell_type": "code",
      "execution_count": 1,
      "metadata": {
        "id": "8Crczxe22AuM"
      },
      "outputs": [],
      "source": [
        "#import modules for analyzing ,plotting, and formatting\n",
        "import pandas as pd\n",
        "import matplotlib.pyplot as plt\n",
        "import numpy as np\n",
        "import datetime\n",
        "import seaborn as sns\n"
      ]
    },
    {
      "cell_type": "code",
      "source": [
        "#import sklearn and relevant packages\n",
        "from sklearn.model_selection import train_test_split\n",
        "from sklearn.pipeline import Pipeline\n",
        "from sklearn.preprocessing import StandardScaler\n",
        "from sklearn.preprocessing import MinMaxScaler\n",
        "from sklearn.neighbors import KNeighborsClassifier\n",
        "from sklearn.model_selection import cross_val_score\n",
        "from sklearn.model_selection import GridSearchCV\n",
        "from sklearn.metrics import confusion_matrix\n",
        "from sklearn.model_selection import cross_val_predict\n",
        "from sklearn.metrics import accuracy_score"
      ],
      "metadata": {
        "id": "6pi3wsha2Msc"
      },
      "execution_count": 2,
      "outputs": []
    },
    {
      "cell_type": "code",
      "source": [
        "#importing MNIST data from sklearn\n",
        "from sklearn.datasets import fetch_openml\n",
        "mnist = fetch_openml('mnist_784', version=1)\n",
        "mnist.keys()"
      ],
      "metadata": {
        "colab": {
          "base_uri": "https://localhost:8080/"
        },
        "id": "mnRA5BZm2RSy",
        "outputId": "bedaffe1-3d58-4cea-fb34-d158af79a7c5"
      },
      "execution_count": 3,
      "outputs": [
        {
          "output_type": "stream",
          "name": "stderr",
          "text": [
            "/usr/local/lib/python3.9/dist-packages/sklearn/datasets/_openml.py:968: FutureWarning: The default value of `parser` will change from `'liac-arff'` to `'auto'` in 1.4. You can set `parser='auto'` to silence this warning. Therefore, an `ImportError` will be raised from 1.4 if the dataset is dense and pandas is not installed. Note that the pandas parser may return different data types. See the Notes Section in fetch_openml's API doc for details.\n",
            "  warn(\n"
          ]
        },
        {
          "output_type": "execute_result",
          "data": {
            "text/plain": [
              "dict_keys(['data', 'target', 'frame', 'categories', 'feature_names', 'target_names', 'DESCR', 'details', 'url'])"
            ]
          },
          "metadata": {},
          "execution_count": 3
        }
      ]
    },
    {
      "cell_type": "code",
      "source": [
        "#X represents the pixels each image, y represents those labels\n",
        "X, y = mnist['data'], mnist['target']\n",
        "print(X.shape)\n",
        "print(y.shape)\n",
        "\n",
        "y = y.astype(np.uint8)\n",
        "X_train, X_test, y_train, y_test = X[:6000], X[6000:], y[:6000], y[6000:]"
      ],
      "metadata": {
        "colab": {
          "base_uri": "https://localhost:8080/"
        },
        "id": "xCBItCQr2hAD",
        "outputId": "e934351e-0a93-4dd7-d200-615c1bfd5e5a"
      },
      "execution_count": 4,
      "outputs": [
        {
          "output_type": "stream",
          "name": "stdout",
          "text": [
            "(70000, 784)\n",
            "(70000,)\n"
          ]
        }
      ]
    },
    {
      "cell_type": "code",
      "source": [
        "#singliing out an image, we see the first number from the data set.\n",
        "some_digit = X_train.iloc[0]\n",
        "some_digit_image = some_digit.values.reshape(28,28)\n",
        "\n",
        "plt.imshow(some_digit_image, cmap='binary')\n",
        "plt.axis('off')\n",
        "plt.show( )"
      ],
      "metadata": {
        "colab": {
          "base_uri": "https://localhost:8080/",
          "height": 248
        },
        "id": "ocdkm4ob5ixP",
        "outputId": "da261bb5-9930-4f17-cc51-09399f2946f9"
      },
      "execution_count": 5,
      "outputs": [
        {
          "output_type": "display_data",
          "data": {
            "text/plain": [
              "<Figure size 432x288 with 1 Axes>"
            ],
            "image/png": "[encoded data removed]"
          },
          "metadata": {
            "needs_background": "light"
          }
        }
      ]
    },
    {
      "cell_type": "code",
      "source": [
        "#creating the instance for knn classifier \n",
        "knn = KNeighborsClassifier()"
      ],
      "metadata": {
        "id": "NiiMoYYj4NXG"
      },
      "execution_count": 6,
      "outputs": []
    },
    {
      "cell_type": "code",
      "source": [
        "#checking the accuracy of the knn classifier with the training set, and 3 folds\n",
        "cross_val_score(knn, X_train, y_train, cv=3)"
      ],
      "metadata": {
        "colab": {
          "base_uri": "https://localhost:8080/"
        },
        "id": "Kn8sbPf7HJ4p",
        "outputId": "93db30e4-5393-4778-c9f7-e40ba304a135"
      },
      "execution_count": 7,
      "outputs": [
        {
          "output_type": "execute_result",
          "data": {
            "text/plain": [
              "array([0.921, 0.934, 0.926])"
            ]
          },
          "metadata": {},
          "execution_count": 7
        }
      ]
    },
    {
      "cell_type": "code",
      "source": [
        "#determining the number of images that were correctly classifies with cross val predict and the confusion matrix.\n",
        "y_train_pred = cross_val_predict(knn, X_train, y_train, cv=3)\n",
        "conf_mx = confusion_matrix(y_train, y_train_pred)\n",
        "conf_mx"
      ],
      "metadata": {
        "colab": {
          "base_uri": "https://localhost:8080/"
        },
        "id": "rvPhvNhwJgpt",
        "outputId": "3522218c-c4f9-457f-cdf2-cd75b538e357"
      },
      "execution_count": 8,
      "outputs": [
        {
          "output_type": "execute_result",
          "data": {
            "text/plain": [
              "array([[584,   1,   0,   1,   1,   2,   2,   1,   0,   0],\n",
              "       [  0, 664,   1,   1,   1,   0,   0,   2,   0,   2],\n",
              "       [  8,  31, 511,   6,   2,   1,   4,  14,   3,   1],\n",
              "       [  1,   9,   4, 567,   3,   9,   2,   6,   4,   3],\n",
              "       [  0,  23,   0,   0, 560,   1,   6,   1,   1,  31],\n",
              "       [  5,   7,   2,  15,   2, 460,  11,   1,   0,  11],\n",
              "       [  5,   3,   0,   0,   1,   4, 595,   0,   0,   0],\n",
              "       [  0,  16,   1,   0,  11,   2,   0, 605,   0,  16],\n",
              "       [  3,  16,   8,  22,   6,  14,   5,   5, 466,   6],\n",
              "       [  6,   3,   1,   7,  15,   1,   1,  16,   1, 550]])"
            ]
          },
          "metadata": {},
          "execution_count": 8
        }
      ]
    },
    {
      "cell_type": "code",
      "source": [
        "#to better visualize these, we can use matshow, which plots the correctly classified plots.\n",
        "plt.matshow(conf_mx, cmap=plt.cm.gray)\n",
        "plt.show()"
      ],
      "metadata": {
        "colab": {
          "base_uri": "https://localhost:8080/",
          "height": 275
        },
        "id": "Z8It1VSHK5J2",
        "outputId": "a0b69e33-62d6-4d4e-e613-2b58535e9d1c"
      },
      "execution_count": 9,
      "outputs": [
        {
          "output_type": "display_data",
          "data": {
            "text/plain": [
              "<Figure size 288x288 with 1 Axes>"
            ],
            "image/png": "[encoded data removed]"
          },
          "metadata": {
            "needs_background": "light"
          }
        }
      ]
    },
    {
      "cell_type": "code",
      "source": [
        "#here the confusion matrix is simplified by showing the error rates vs absoute error from above.\n",
        "#this is done by dividing the conf matrix by the number of images in each class.\n",
        "row_sums = conf_mx.sum(axis=1, keepdims=True)\n",
        "norm_conf_mx = conf_mx / row_sums\n",
        "\n",
        "#print(norm_conf_mx)\n",
        "\n",
        "#here we plot those error rates.\n",
        "np.fill_diagonal(norm_conf_mx, 0)\n",
        "plt.matshow(norm_conf_mx, cmap=plt.cm.gray)\n",
        "plt.show()\n",
        "\n",
        "#the rows represent true classes\n",
        "#columns represent predicted classes"
      ],
      "metadata": {
        "colab": {
          "base_uri": "https://localhost:8080/",
          "height": 275
        },
        "id": "ywgEDQwaLPLu",
        "outputId": "d126ce8e-07f5-4e4b-a5a4-2d795433bfe3"
      },
      "execution_count": 10,
      "outputs": [
        {
          "output_type": "display_data",
          "data": {
            "text/plain": [
              "<Figure size 288x288 with 1 Axes>"
            ],
            "image/png": "[encoded data removed]"
          },
          "metadata": {
            "needs_background": "light"
          }
        }
      ]
    },
    {
      "cell_type": "code",
      "source": [
        "#in this block I am using GridSearchCV to find the best parameters for the knn \n",
        "#classifier. The two hyperparameters I am using are neighbors and weight. \n",
        "#I am setting verbose to 3 so that more information is output.\n",
        "neighbors = list(range(1,6))\n",
        "weights = ['uniform', 'distance']\n",
        "\n",
        "param_grid = [\n",
        "    {'n_neighbors': neighbors, 'weights': weights}\n",
        "]\n",
        "\n",
        "grid_search = GridSearchCV(knn, param_grid, cv=5, scoring='accuracy', verbose=3)\n",
        "grid_search.fit(X_train, y_train) "
      ],
      "metadata": {
        "colab": {
          "base_uri": "https://localhost:8080/",
          "height": 982
        },
        "id": "1C6pPiDSLotd",
        "outputId": "fc1640af-8b92-49b1-e5df-782b1e747b07"
      },
      "execution_count": 11,
      "outputs": [
        {
          "output_type": "stream",
          "name": "stdout",
          "text": [
            "Fitting 5 folds for each of 10 candidates, totalling 50 fits\n",
            "[CV 1/5] END ....n_neighbors=1, weights=uniform;, score=0.920 total time=   0.5s\n",
            "[CV 2/5] END ....n_neighbors=1, weights=uniform;, score=0.934 total time=   0.3s\n",
            "[CV 3/5] END ....n_neighbors=1, weights=uniform;, score=0.934 total time=   0.3s\n",
            "[CV 4/5] END ....n_neighbors=1, weights=uniform;, score=0.938 total time=   0.3s\n",
            "[CV 5/5] END ....n_neighbors=1, weights=uniform;, score=0.937 total time=   0.3s\n",
            "[CV 1/5] END ...n_neighbors=1, weights=distance;, score=0.920 total time=   0.3s\n",
            "[CV 2/5] END ...n_neighbors=1, weights=distance;, score=0.934 total time=   0.3s\n",
            "[CV 3/5] END ...n_neighbors=1, weights=distance;, score=0.934 total time=   0.3s\n",
            "[CV 4/5] END ...n_neighbors=1, weights=distance;, score=0.938 total time=   0.3s\n",
            "[CV 5/5] END ...n_neighbors=1, weights=distance;, score=0.937 total time=   0.3s\n",
            "[CV 1/5] END ....n_neighbors=2, weights=uniform;, score=0.915 total time=   0.3s\n",
            "[CV 2/5] END ....n_neighbors=2, weights=uniform;, score=0.929 total time=   0.3s\n",
            "[CV 3/5] END ....n_neighbors=2, weights=uniform;, score=0.923 total time=   0.3s\n",
            "[CV 4/5] END ....n_neighbors=2, weights=uniform;, score=0.930 total time=   0.3s\n",
            "[CV 5/5] END ....n_neighbors=2, weights=uniform;, score=0.930 total time=   0.4s\n",
            "[CV 1/5] END ...n_neighbors=2, weights=distance;, score=0.920 total time=   0.3s\n",
            "[CV 2/5] END ...n_neighbors=2, weights=distance;, score=0.934 total time=   0.3s\n",
            "[CV 3/5] END ...n_neighbors=2, weights=distance;, score=0.934 total time=   0.3s\n",
            "[CV 4/5] END ...n_neighbors=2, weights=distance;, score=0.938 total time=   0.3s\n",
            "[CV 5/5] END ...n_neighbors=2, weights=distance;, score=0.937 total time=   0.3s\n",
            "[CV 1/5] END ....n_neighbors=3, weights=uniform;, score=0.924 total time=   0.3s\n",
            "[CV 2/5] END ....n_neighbors=3, weights=uniform;, score=0.936 total time=   0.3s\n",
            "[CV 3/5] END ....n_neighbors=3, weights=uniform;, score=0.937 total time=   0.3s\n",
            "[CV 4/5] END ....n_neighbors=3, weights=uniform;, score=0.939 total time=   0.3s\n",
            "[CV 5/5] END ....n_neighbors=3, weights=uniform;, score=0.934 total time=   0.3s\n",
            "[CV 1/5] END ...n_neighbors=3, weights=distance;, score=0.926 total time=   0.3s\n",
            "[CV 2/5] END ...n_neighbors=3, weights=distance;, score=0.934 total time=   0.3s\n",
            "[CV 3/5] END ...n_neighbors=3, weights=distance;, score=0.940 total time=   0.3s\n",
            "[CV 4/5] END ...n_neighbors=3, weights=distance;, score=0.939 total time=   0.3s\n",
            "[CV 5/5] END ...n_neighbors=3, weights=distance;, score=0.938 total time=   0.3s\n",
            "[CV 1/5] END ....n_neighbors=4, weights=uniform;, score=0.918 total time=   0.3s\n",
            "[CV 2/5] END ....n_neighbors=4, weights=uniform;, score=0.935 total time=   0.3s\n",
            "[CV 3/5] END ....n_neighbors=4, weights=uniform;, score=0.933 total time=   0.3s\n",
            "[CV 4/5] END ....n_neighbors=4, weights=uniform;, score=0.932 total time=   0.7s\n",
            "[CV 5/5] END ....n_neighbors=4, weights=uniform;, score=0.936 total time=   0.7s\n",
            "[CV 1/5] END ...n_neighbors=4, weights=distance;, score=0.927 total time=   0.5s\n",
            "[CV 2/5] END ...n_neighbors=4, weights=distance;, score=0.941 total time=   0.3s\n",
            "[CV 3/5] END ...n_neighbors=4, weights=distance;, score=0.945 total time=   0.3s\n",
            "[CV 4/5] END ...n_neighbors=4, weights=distance;, score=0.938 total time=   0.3s\n",
            "[CV 5/5] END ...n_neighbors=4, weights=distance;, score=0.943 total time=   0.3s\n",
            "[CV 1/5] END ....n_neighbors=5, weights=uniform;, score=0.914 total time=   0.3s\n",
            "[CV 2/5] END ....n_neighbors=5, weights=uniform;, score=0.936 total time=   0.3s\n",
            "[CV 3/5] END ....n_neighbors=5, weights=uniform;, score=0.943 total time=   0.3s\n",
            "[CV 4/5] END ....n_neighbors=5, weights=uniform;, score=0.929 total time=   0.3s\n",
            "[CV 5/5] END ....n_neighbors=5, weights=uniform;, score=0.934 total time=   0.3s\n",
            "[CV 1/5] END ...n_neighbors=5, weights=distance;, score=0.922 total time=   0.3s\n",
            "[CV 2/5] END ...n_neighbors=5, weights=distance;, score=0.940 total time=   0.3s\n",
            "[CV 3/5] END ...n_neighbors=5, weights=distance;, score=0.943 total time=   0.3s\n",
            "[CV 4/5] END ...n_neighbors=5, weights=distance;, score=0.930 total time=   0.3s\n",
            "[CV 5/5] END ...n_neighbors=5, weights=distance;, score=0.935 total time=   0.3s\n"
          ]
        },
        {
          "output_type": "execute_result",
          "data": {
            "text/plain": [
              "GridSearchCV(cv=5, estimator=KNeighborsClassifier(),\n",
              "             param_grid=[{'n_neighbors': [1, 2, 3, 4, 5],\n",
              "                          'weights': ['uniform', 'distance']}],\n",
              "             scoring='accuracy', verbose=3)"
            ],
            "text/html": [
              "<style>#sk-container-id-1 {color: black;background-color: white;}#sk-container-id-1 pre{padding: 0;}#sk-container-id-1 div.sk-toggleable {background-color: white;}#sk-container-id-1 label.sk-toggleable__label {cursor: pointer;display: block;width: 100%;margin-bottom: 0;padding: 0.3em;box-sizing: border-box;text-align: center;}#sk-container-id-1 label.sk-toggleable__label-arrow:before {content: \"▸\";float: left;margin-right: 0.25em;color: #696969;}#sk-container-id-1 label.sk-toggleable__label-arrow:hover:before {color: black;}#sk-container-id-1 div.sk-estimator:hover label.sk-toggleable__label-arrow:before {color: black;}#sk-container-id-1 div.sk-toggleable__content {max-height: 0;max-width: 0;overflow: hidden;text-align: left;background-color: #f0f8ff;}#sk-container-id-1 div.sk-toggleable__content pre {margin: 0.2em;color: black;border-radius: 0.25em;background-color: #f0f8ff;}#sk-container-id-1 input.sk-toggleable__control:checked~div.sk-toggleable__content {max-height: 200px;max-width: 100%;overflow: auto;}#sk-container-id-1 input.sk-toggleable__control:checked~label.sk-toggleable__label-arrow:before {content: \"▾\";}#sk-container-id-1 div.sk-estimator input.sk-toggleable__control:checked~label.sk-toggleable__label {background-color: #d4ebff;}#sk-container-id-1 div.sk-label input.sk-toggleable__control:checked~label.sk-toggleable__label {background-color: #d4ebff;}#sk-container-id-1 input.sk-hidden--visually {border: 0;clip: rect(1px 1px 1px 1px);clip: rect(1px, 1px, 1px, 1px);height: 1px;margin: -1px;overflow: hidden;padding: 0;position: absolute;width: 1px;}#sk-container-id-1 div.sk-estimator {font-family: monospace;background-color: #f0f8ff;border: 1px dotted black;border-radius: 0.25em;box-sizing: border-box;margin-bottom: 0.5em;}#sk-container-id-1 div.sk-estimator:hover {background-color: #d4ebff;}#sk-container-id-1 div.sk-parallel-item::after {content: \"\";width: 100%;border-bottom: 1px solid gray;flex-grow: 1;}#sk-container-id-1 div.sk-label:hover label.sk-toggleable__label {background-color: #d4ebff;}#sk-container-id-1 div.sk-serial::before {content: \"\";position: absolute;border-left: 1px solid gray;box-sizing: border-box;top: 0;bottom: 0;left: 50%;z-index: 0;}#sk-container-id-1 div.sk-serial {display: flex;flex-direction: column;align-items: center;background-color: white;padding-right: 0.2em;padding-left: 0.2em;position: relative;}#sk-container-id-1 div.sk-item {position: relative;z-index: 1;}#sk-container-id-1 div.sk-parallel {display: flex;align-items: stretch;justify-content: center;background-color: white;position: relative;}#sk-container-id-1 div.sk-item::before, #sk-container-id-1 div.sk-parallel-item::before {content: \"\";position: absolute;border-left: 1px solid gray;box-sizing: border-box;top: 0;bottom: 0;left: 50%;z-index: -1;}#sk-container-id-1 div.sk-parallel-item {display: flex;flex-direction: column;z-index: 1;position: relative;background-color: white;}#sk-container-id-1 div.sk-parallel-item:first-child::after {align-self: flex-end;width: 50%;}#sk-container-id-1 div.sk-parallel-item:last-child::after {align-self: flex-start;width: 50%;}#sk-container-id-1 div.sk-parallel-item:only-child::after {width: 0;}#sk-container-id-1 div.sk-dashed-wrapped {border: 1px dashed gray;margin: 0 0.4em 0.5em 0.4em;box-sizing: border-box;padding-bottom: 0.4em;background-color: white;}#sk-container-id-1 div.sk-label label {font-family: monospace;font-weight: bold;display: inline-block;line-height: 1.2em;}#sk-container-id-1 div.sk-label-container {text-align: center;}#sk-container-id-1 div.sk-container {/* jupyter's `normalize.less` sets `[hidden] { display: none; }` but bootstrap.min.css set `[hidden] { display: none !important; }` so we also need the `!important` here to be able to override the default hidden behavior on the sphinx rendered scikit-learn.org. See: https://github.com/scikit-learn/scikit-learn/issues/21755 */display: inline-block !important;position: relative;}#sk-container-id-1 div.sk-text-repr-fallback {display: none;}</style><div id=\"sk-container-id-1\" class=\"sk-top-container\"><div class=\"sk-text-repr-fallback\"><pre>GridSearchCV(cv=5, estimator=KNeighborsClassifier(),\n",
              "             param_grid=[{&#x27;n_neighbors&#x27;: [1, 2, 3, 4, 5],\n",
              "                          &#x27;weights&#x27;: [&#x27;uniform&#x27;, &#x27;distance&#x27;]}],\n",
              "             scoring=&#x27;accuracy&#x27;, verbose=3)</pre><b>In a Jupyter environment, please rerun this cell to show the HTML representation or trust the notebook. <br />On GitHub, the HTML representation is unable to render, please try loading this page with nbviewer.org.</b></div><div class=\"sk-container\" hidden><div class=\"sk-item sk-dashed-wrapped\"><div class=\"sk-label-container\"><div class=\"sk-label sk-toggleable\"><input class=\"sk-toggleable__control sk-hidden--visually\" id=\"sk-estimator-id-1\" type=\"checkbox\" ><label for=\"sk-estimator-id-1\" class=\"sk-toggleable__label sk-toggleable__label-arrow\">GridSearchCV</label><div class=\"sk-toggleable__content\"><pre>GridSearchCV(cv=5, estimator=KNeighborsClassifier(),\n",
              "             param_grid=[{&#x27;n_neighbors&#x27;: [1, 2, 3, 4, 5],\n",
              "                          &#x27;weights&#x27;: [&#x27;uniform&#x27;, &#x27;distance&#x27;]}],\n",
              "             scoring=&#x27;accuracy&#x27;, verbose=3)</pre></div></div></div><div class=\"sk-parallel\"><div class=\"sk-parallel-item\"><div class=\"sk-item\"><div class=\"sk-label-container\"><div class=\"sk-label sk-toggleable\"><input class=\"sk-toggleable__control sk-hidden--visually\" id=\"sk-estimator-id-2\" type=\"checkbox\" ><label for=\"sk-estimator-id-2\" class=\"sk-toggleable__label sk-toggleable__label-arrow\">estimator: KNeighborsClassifier</label><div class=\"sk-toggleable__content\"><pre>KNeighborsClassifier()</pre></div></div></div><div class=\"sk-serial\"><div class=\"sk-item\"><div class=\"sk-estimator sk-toggleable\"><input class=\"sk-toggleable__control sk-hidden--visually\" id=\"sk-estimator-id-3\" type=\"checkbox\" ><label for=\"sk-estimator-id-3\" class=\"sk-toggleable__label sk-toggleable__label-arrow\">KNeighborsClassifier</label><div class=\"sk-toggleable__content\"><pre>KNeighborsClassifier()</pre></div></div></div></div></div></div></div></div></div></div>"
            ]
          },
          "metadata": {},
          "execution_count": 11
        }
      ]
    },
    {
      "cell_type": "code",
      "source": [
        "#from grid search I found the best params for this classifier \n",
        "print(grid_search.best_params_)\n",
        "print(grid_search.best_estimator_)"
      ],
      "metadata": {
        "colab": {
          "base_uri": "https://localhost:8080/"
        },
        "id": "oBM9DPLROACq",
        "outputId": "8e8b51a4-2b3a-46cc-9141-b9f1728615db"
      },
      "execution_count": 12,
      "outputs": [
        {
          "output_type": "stream",
          "name": "stdout",
          "text": [
            "{'n_neighbors': 4, 'weights': 'distance'}\n",
            "KNeighborsClassifier(n_neighbors=4, weights='distance')\n"
          ]
        }
      ]
    },
    {
      "cell_type": "code",
      "source": [
        "#to make the results easier to view, I look at the accuracy\n",
        "#paired with the parameters\n",
        "cvres = grid_search.cv_results_\n",
        "for accuracy, params in zip(cvres['mean_test_score'], cvres['params']):\n",
        "  print(np.sqrt(accuracy), params)"
      ],
      "metadata": {
        "colab": {
          "base_uri": "https://localhost:8080/"
        },
        "id": "Rwdj1wJiPmxR",
        "outputId": "3d73b533-d6ec-4c7e-f706-59dd479e51b0"
      },
      "execution_count": 17,
      "outputs": [
        {
          "output_type": "stream",
          "name": "stdout",
          "text": [
            "0.9656603957913984 {'n_neighbors': 1, 'weights': 'uniform'}\n",
            "0.9656603957913984 {'n_neighbors': 1, 'weights': 'distance'}\n",
            "0.962029105588807 {'n_neighbors': 2, 'weights': 'uniform'}\n",
            "0.9656603957913984 {'n_neighbors': 2, 'weights': 'distance'}\n",
            "0.9664367542679655 {'n_neighbors': 3, 'weights': 'uniform'}\n",
            "0.967212489580237 {'n_neighbors': 3, 'weights': 'distance'}\n",
            "0.9648834126463155 {'n_neighbors': 4, 'weights': 'uniform'}\n",
            "0.9690201236300514 {'n_neighbors': 4, 'weights': 'distance'}\n",
            "0.9649697750016146 {'n_neighbors': 5, 'weights': 'uniform'}\n",
            "0.966350523016019 {'n_neighbors': 5, 'weights': 'distance'}\n"
          ]
        }
      ]
    },
    {
      "cell_type": "code",
      "source": [
        "#lastly, I am predicting on the test set using those best parameters \n",
        "y_pred = grid_search.predict(X_test)\n",
        "print(accuracy_score(y_test, y_pred))\n",
        "\n",
        "#again a conf matrix is used to determine the correctly predicted labels.\n",
        "\n",
        "conf_mx_test = confusion_matrix(y_test, y_pred)\n",
        "conf_mx_test"
      ],
      "metadata": {
        "colab": {
          "base_uri": "https://localhost:8080/"
        },
        "id": "Xk1Wz2l-QaCT",
        "outputId": "a7bdbd32-642c-4a1e-ff5d-96bba526bcee"
      },
      "execution_count": 18,
      "outputs": [
        {
          "output_type": "stream",
          "name": "stdout",
          "text": [
            "0.93875\n"
          ]
        },
        {
          "output_type": "execute_result",
          "data": {
            "text/plain": [
              "array([[6201,    7,    6,    1,    0,   27,   52,    5,    7,    5],\n",
              "       [   1, 7149,   19,    6,    5,    3,    6,    6,    3,    8],\n",
              "       [  83,  145, 5854,   46,   18,   12,   27,  154,   46,   24],\n",
              "       [  14,   40,   59, 6045,    6,  162,    9,   65,   77,   56],\n",
              "       [   5,   92,    3,    1, 5755,    1,   31,   22,    3,  288],\n",
              "       [  34,   37,    8,  151,   21, 5309,  109,   15,   37,   78],\n",
              "       [  53,   29,    3,    1,   10,   33, 6135,    0,    4,    0],\n",
              "       [   5,  127,   18,    3,   38,    1,    0, 6285,    2,  163],\n",
              "       [  53,  139,   51,  160,   59,  140,   43,   38, 5416,  175],\n",
              "       [  20,   35,    8,   56,  128,   19,    7,  134,   19, 5931]])"
            ]
          },
          "metadata": {},
          "execution_count": 18
        }
      ]
    },
    {
      "cell_type": "code",
      "source": [
        "#and a plot is made of the test conf matrix\n",
        "plt.matshow(conf_mx_test, cmap=plt.cm.gray)\n",
        "plt.show()"
      ],
      "metadata": {
        "colab": {
          "base_uri": "https://localhost:8080/",
          "height": 275
        },
        "id": "vgENpJmSPzIC",
        "outputId": "4625e5f6-c1fa-43f6-c28f-c44a74e66695"
      },
      "execution_count": 19,
      "outputs": [
        {
          "output_type": "display_data",
          "data": {
            "text/plain": [
              "<Figure size 288x288 with 1 Axes>"
            ],
            "image/png": "[encoded data removed]"
          },
          "metadata": {
            "needs_background": "light"
          }
        }
      ]
    },
    {
      "cell_type": "code",
      "source": [
        "#just as before, we are looking at the rate of error\n",
        "\n",
        "row_sums_test = conf_mx_test.sum(axis=1, keepdims=True)\n",
        "norm_conf_mx_test = conf_mx_test / row_sums_test\n",
        "\n",
        "np.fill_diagonal(norm_conf_mx_test, 0)\n",
        "plt.matshow(norm_conf_mx_test, cmap=plt.cm.gray)\n",
        "plt.show()"
      ],
      "metadata": {
        "colab": {
          "base_uri": "https://localhost:8080/",
          "height": 275
        },
        "id": "NaunCWb0otOI",
        "outputId": "60340d54-921d-440b-d27c-28b3b57d118e"
      },
      "execution_count": 20,
      "outputs": [
        {
          "output_type": "display_data",
          "data": {
            "text/plain": [
              "<Figure size 288x288 with 1 Axes>"
            ],
            "image/png": "[encoded data removed]"
          },
          "metadata": {
            "needs_background": "light"
          }
        }
      ]
    },
    {
      "cell_type": "code",
      "source": [],
      "metadata": {
        "id": "rgtcP3bc22hm"
      },
      "execution_count": 20,
      "outputs": []
    }
  ]
}